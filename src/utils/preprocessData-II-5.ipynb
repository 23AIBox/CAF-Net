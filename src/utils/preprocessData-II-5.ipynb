{
 "cells": [
  {
   "cell_type": "code",
   "execution_count": 1,
   "id": "33385690-fa7c-4d37-bf86-29e2f5ced9e1",
   "metadata": {},
   "outputs": [],
   "source": [
    "# -*- coding: utf-8 -*-\n",
    "import os\n",
    "import pickle\n",
    "from typing import List\n",
    "\n",
    "import pandas\n",
    "import numpy as np\n",
    "from tqdm import tqdm"
   ]
  },
  {
   "cell_type": "code",
   "execution_count": 2,
   "id": "8798ab0a-de8e-4dae-a0d6-1620ed5b36bd",
   "metadata": {},
   "outputs": [],
   "source": [
    "orig_name = 'dataset II-5/Kleinstiver_5gRNA_wholeDataset.csv'\n",
    "csv_name = 'II-5'"
   ]
  },
  {
   "cell_type": "code",
   "execution_count": 3,
   "id": "98a1f79e-f572-422c-b6e6-8207f90fbd38",
   "metadata": {},
   "outputs": [
    {
     "data": {
      "text/html": [
       "<div>\n",
       "<style scoped>\n",
       "    .dataframe tbody tr th:only-of-type {\n",
       "        vertical-align: middle;\n",
       "    }\n",
       "\n",
       "    .dataframe tbody tr th {\n",
       "        vertical-align: top;\n",
       "    }\n",
       "\n",
       "    .dataframe thead th {\n",
       "        text-align: right;\n",
       "    }\n",
       "</style>\n",
       "<table border=\"1\" class=\"dataframe\">\n",
       "  <thead>\n",
       "    <tr style=\"text-align: right;\">\n",
       "      <th></th>\n",
       "      <th>sgRNA_seq</th>\n",
       "      <th>off_seq</th>\n",
       "      <th>Read</th>\n",
       "      <th>label</th>\n",
       "    </tr>\n",
       "  </thead>\n",
       "  <tbody>\n",
       "    <tr>\n",
       "      <th>0</th>\n",
       "      <td>GTCACCTCCAATGACTAGGGNGG</td>\n",
       "      <td>GTCtCCTCCAcTGgaTtGtGAGG</td>\n",
       "      <td>0</td>\n",
       "      <td>0</td>\n",
       "    </tr>\n",
       "    <tr>\n",
       "      <th>1</th>\n",
       "      <td>GTCACCTCCAATGACTAGGGNGG</td>\n",
       "      <td>GTCtCtTCCgATGAtgAGGGTtG</td>\n",
       "      <td>0</td>\n",
       "      <td>0</td>\n",
       "    </tr>\n",
       "    <tr>\n",
       "      <th>2</th>\n",
       "      <td>GTCACCTCCAATGACTAGGGNGG</td>\n",
       "      <td>GcgACCTCCAcTGtCTAGtGGGc</td>\n",
       "      <td>0</td>\n",
       "      <td>0</td>\n",
       "    </tr>\n",
       "    <tr>\n",
       "      <th>3</th>\n",
       "      <td>GTCACCTCCAATGACTAGGGNGG</td>\n",
       "      <td>GcgACCTCCAcTGtCTAGtGGGc</td>\n",
       "      <td>0</td>\n",
       "      <td>0</td>\n",
       "    </tr>\n",
       "    <tr>\n",
       "      <th>4</th>\n",
       "      <td>GTCACCTCCAATGACTAGGGNGG</td>\n",
       "      <td>GTCtCtTCCgATGAtgAGGGTtG</td>\n",
       "      <td>0</td>\n",
       "      <td>0</td>\n",
       "    </tr>\n",
       "    <tr>\n",
       "      <th>...</th>\n",
       "      <td>...</td>\n",
       "      <td>...</td>\n",
       "      <td>...</td>\n",
       "      <td>...</td>\n",
       "    </tr>\n",
       "    <tr>\n",
       "      <th>95824</th>\n",
       "      <td>GTGCGGCAAGAGCTTCAGCCNGG</td>\n",
       "      <td>GTGGGGCAAGAGGTTCAGCCTGG</td>\n",
       "      <td>23</td>\n",
       "      <td>1</td>\n",
       "    </tr>\n",
       "    <tr>\n",
       "      <th>95825</th>\n",
       "      <td>GTGCGGCAAGAGCTTCAGCCNGG</td>\n",
       "      <td>ATGGGGAAAGAGCTTCAGCCTGG</td>\n",
       "      <td>15</td>\n",
       "      <td>1</td>\n",
       "    </tr>\n",
       "    <tr>\n",
       "      <th>95826</th>\n",
       "      <td>GTGCGGCAAGAGCTTCAGCCNGG</td>\n",
       "      <td>GTGTGGCAAGAGCTTCAGCAGGA</td>\n",
       "      <td>6</td>\n",
       "      <td>1</td>\n",
       "    </tr>\n",
       "    <tr>\n",
       "      <th>95827</th>\n",
       "      <td>GTGCGGCAAGAGCTTCAGCCNGG</td>\n",
       "      <td>CTGTGGCAAGAGCTTCAGCCAGA</td>\n",
       "      <td>3</td>\n",
       "      <td>1</td>\n",
       "    </tr>\n",
       "    <tr>\n",
       "      <th>95828</th>\n",
       "      <td>GTGCGGCAAGAGCTTCAGCCNGG</td>\n",
       "      <td>GTGCGGCAAGAGCTTCAGCCAGA</td>\n",
       "      <td>2</td>\n",
       "      <td>1</td>\n",
       "    </tr>\n",
       "  </tbody>\n",
       "</table>\n",
       "<p>95829 rows × 4 columns</p>\n",
       "</div>"
      ],
      "text/plain": [
       "                     sgRNA_seq                  off_seq  Read  label\n",
       "0      GTCACCTCCAATGACTAGGGNGG  GTCtCCTCCAcTGgaTtGtGAGG     0      0\n",
       "1      GTCACCTCCAATGACTAGGGNGG  GTCtCtTCCgATGAtgAGGGTtG     0      0\n",
       "2      GTCACCTCCAATGACTAGGGNGG  GcgACCTCCAcTGtCTAGtGGGc     0      0\n",
       "3      GTCACCTCCAATGACTAGGGNGG  GcgACCTCCAcTGtCTAGtGGGc     0      0\n",
       "4      GTCACCTCCAATGACTAGGGNGG  GTCtCtTCCgATGAtgAGGGTtG     0      0\n",
       "...                        ...                      ...   ...    ...\n",
       "95824  GTGCGGCAAGAGCTTCAGCCNGG  GTGGGGCAAGAGGTTCAGCCTGG    23      1\n",
       "95825  GTGCGGCAAGAGCTTCAGCCNGG  ATGGGGAAAGAGCTTCAGCCTGG    15      1\n",
       "95826  GTGCGGCAAGAGCTTCAGCCNGG  GTGTGGCAAGAGCTTCAGCAGGA     6      1\n",
       "95827  GTGCGGCAAGAGCTTCAGCCNGG  CTGTGGCAAGAGCTTCAGCCAGA     3      1\n",
       "95828  GTGCGGCAAGAGCTTCAGCCNGG  GTGCGGCAAGAGCTTCAGCCAGA     2      1\n",
       "\n",
       "[95829 rows x 4 columns]"
      ]
     },
     "execution_count": 3,
     "metadata": {},
     "output_type": "execute_result"
    }
   ],
   "source": [
    "'''\n",
    "读 csv\n",
    "'''\n",
    "assert os.path.exists('../../data')\n",
    "dataset = pandas.read_csv('../../data/Dataset II (mismatch-only)/%s' % orig_name, delimiter=',')\n",
    "dataset"
   ]
  },
  {
   "cell_type": "code",
   "execution_count": 4,
   "id": "fabe9067-634c-4495-89ac-ce6407a82602",
   "metadata": {},
   "outputs": [
    {
     "data": {
      "text/plain": [
       "(0        GTCACCTCCAATGACTAGGGNGG\n",
       " 1        GTCACCTCCAATGACTAGGGNGG\n",
       " 2        GTCACCTCCAATGACTAGGGNGG\n",
       " 3        GTCACCTCCAATGACTAGGGNGG\n",
       " 4        GTCACCTCCAATGACTAGGGNGG\n",
       "                   ...           \n",
       " 95824    GTGCGGCAAGAGCTTCAGCCNGG\n",
       " 95825    GTGCGGCAAGAGCTTCAGCCNGG\n",
       " 95826    GTGCGGCAAGAGCTTCAGCCNGG\n",
       " 95827    GTGCGGCAAGAGCTTCAGCCNGG\n",
       " 95828    GTGCGGCAAGAGCTTCAGCCNGG\n",
       " Name: sgRNA_seq, Length: 95829, dtype: object,\n",
       " 0        GTCtCCTCCAcTGgaTtGtGAGG\n",
       " 1        GTCtCtTCCgATGAtgAGGGTtG\n",
       " 2        GcgACCTCCAcTGtCTAGtGGGc\n",
       " 3        GcgACCTCCAcTGtCTAGtGGGc\n",
       " 4        GTCtCtTCCgATGAtgAGGGTtG\n",
       "                   ...           \n",
       " 95824    GTGGGGCAAGAGGTTCAGCCTGG\n",
       " 95825    ATGGGGAAAGAGCTTCAGCCTGG\n",
       " 95826    GTGTGGCAAGAGCTTCAGCAGGA\n",
       " 95827    CTGTGGCAAGAGCTTCAGCCAGA\n",
       " 95828    GTGCGGCAAGAGCTTCAGCCAGA\n",
       " Name: off_seq, Length: 95829, dtype: object,\n",
       " 0        0\n",
       " 1        0\n",
       " 2        0\n",
       " 3        0\n",
       " 4        0\n",
       "         ..\n",
       " 95824    1\n",
       " 95825    1\n",
       " 95826    1\n",
       " 95827    1\n",
       " 95828    1\n",
       " Name: label, Length: 95829, dtype: int64)"
      ]
     },
     "execution_count": 4,
     "metadata": {},
     "output_type": "execute_result"
    }
   ],
   "source": [
    "on = dataset['sgRNA_seq']\n",
    "off = dataset['off_seq']\n",
    "val = dataset['label']\n",
    "on,off,val"
   ]
  },
  {
   "cell_type": "code",
   "execution_count": 5,
   "id": "663f4689-d3b5-484e-a1e4-f4350fc4d8a5",
   "metadata": {},
   "outputs": [],
   "source": [
    "tlen =24\n",
    "ons = []\n",
    "offs = []\n",
    "for i in range(len(on)):\n",
    "    ons.append('-'*(tlen-len(on[i]))+on[i])\n",
    "for i in range(len(off)):\n",
    "    offs.append('-'*(tlen-len(off[i]))+off[i])"
   ]
  },
  {
   "cell_type": "code",
   "execution_count": 6,
   "id": "2da77c68-78c3-4a92-a9f3-c931a1e55470",
   "metadata": {},
   "outputs": [
    {
     "data": {
      "text/plain": [
       "24"
      ]
     },
     "execution_count": 6,
     "metadata": {},
     "output_type": "execute_result"
    }
   ],
   "source": [
    "min([len(s) for s in ons])"
   ]
  },
  {
   "cell_type": "code",
   "execution_count": 7,
   "id": "8e5d380d-9783-4eeb-8ee3-0fc00fe70e07",
   "metadata": {},
   "outputs": [
    {
     "name": "stderr",
     "output_type": "stream",
     "text": [
      "100%|██████████| 95829/95829 [00:00<00:00, 178682.36it/s]\n"
     ]
    },
    {
     "data": {
      "text/plain": [
       "['-GTCACCTCCAATGACTAGGGAGG',\n",
       " '-GTCACCTCCAATGACTAGGGTGG',\n",
       " '-GTCACCTCCAATGACTAGGGGGG',\n",
       " '-GTCACCTCCAATGACTAGGGGGG',\n",
       " '-GTCACCTCCAATGACTAGGGTGG',\n",
       " '-GTCACCTCCAATGACTAGGGAGG',\n",
       " '-GTCACCTCCAATGACTAGGGTGG',\n",
       " '-GTCACCTCCAATGACTAGGGGGG',\n",
       " '-GTCACCTCCAATGACTAGGGTGG',\n",
       " '-GTCACCTCCAATGACTAGGGAGG']"
      ]
     },
     "execution_count": 7,
     "metadata": {},
     "output_type": "execute_result"
    }
   ],
   "source": [
    "onss = []\n",
    "for i in tqdm(range(len(ons))):\n",
    "    seq = []\n",
    "    for j in range(tlen):\n",
    "        if ons[i][j]=='N':\n",
    "            seq.append(offs[i][j])\n",
    "        else:\n",
    "            seq.append(ons[i][j])\n",
    "    onss.append(''.join(seq))\n",
    "onss[0:10]"
   ]
  },
  {
   "cell_type": "code",
   "execution_count": 8,
   "id": "397deac6-f9fd-4738-ac4d-10a10c84e6e5",
   "metadata": {},
   "outputs": [],
   "source": [
    "df = pandas.DataFrame(data={\n",
    "    'on':onss,\n",
    "    'off':offs,\n",
    "    'val':val\n",
    "})\n",
    "df.to_csv('../../data/%s.csv' % csv_name, index=False)"
   ]
  }
 ],
 "metadata": {
  "kernelspec": {
   "display_name": "Python 3",
   "language": "python",
   "name": "python3"
  },
  "language_info": {
   "codemirror_mode": {
    "name": "ipython",
    "version": 3
   },
   "file_extension": ".py",
   "mimetype": "text/x-python",
   "name": "python",
   "nbconvert_exporter": "python",
   "pygments_lexer": "ipython3",
   "version": "3.10.8"
  }
 },
 "nbformat": 4,
 "nbformat_minor": 5
}
