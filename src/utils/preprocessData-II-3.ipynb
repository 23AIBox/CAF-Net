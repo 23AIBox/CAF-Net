{
 "cells": [
  {
   "cell_type": "code",
   "execution_count": 1,
   "id": "bec45b11-0b91-4915-a3ad-d33d750b3a0f",
   "metadata": {},
   "outputs": [],
   "source": [
    "# -*- coding: utf-8 -*-\n",
    "import os\n",
    "import pickle\n",
    "from typing import List\n",
    "\n",
    "import pandas\n",
    "import numpy as np\n",
    "from tqdm import tqdm"
   ]
  },
  {
   "cell_type": "code",
   "execution_count": 2,
   "id": "d0128886-3d0e-40c8-a388-586f2368584a",
   "metadata": {},
   "outputs": [],
   "source": [
    "orig_name = 'dataset II-3/SITE-Seq_offTarget_wholeDataset.csv'\n",
    "csv_name = 'II-3'"
   ]
  },
  {
   "cell_type": "code",
   "execution_count": 3,
   "id": "4d53e3a2-43d1-441b-888b-09fb62b37020",
   "metadata": {},
   "outputs": [
    {
     "data": {
      "text/html": [
       "<div>\n",
       "<style scoped>\n",
       "    .dataframe tbody tr th:only-of-type {\n",
       "        vertical-align: middle;\n",
       "    }\n",
       "\n",
       "    .dataframe tbody tr th {\n",
       "        vertical-align: top;\n",
       "    }\n",
       "\n",
       "    .dataframe thead th {\n",
       "        text-align: right;\n",
       "    }\n",
       "</style>\n",
       "<table border=\"1\" class=\"dataframe\">\n",
       "  <thead>\n",
       "    <tr style=\"text-align: right;\">\n",
       "      <th></th>\n",
       "      <th>Unnamed: 0</th>\n",
       "      <th>direction</th>\n",
       "      <th>location</th>\n",
       "      <th>off_seq</th>\n",
       "      <th>on_seq</th>\n",
       "      <th>reads</th>\n",
       "      <th>on_off_sp</th>\n",
       "    </tr>\n",
       "  </thead>\n",
       "  <tbody>\n",
       "    <tr>\n",
       "      <th>0</th>\n",
       "      <td>0</td>\n",
       "      <td>-</td>\n",
       "      <td>chr1:13386</td>\n",
       "      <td>GGAGGCTCTAGGGAAAGGAAAAG</td>\n",
       "      <td>GGGGCCACTAGGGACAGGATNGG</td>\n",
       "      <td>0.0</td>\n",
       "      <td>GGAGGCTCTAGGGAAAGGAAAAGGGGGCCACTAGGGACAGGATNGG</td>\n",
       "    </tr>\n",
       "    <tr>\n",
       "      <th>1</th>\n",
       "      <td>1</td>\n",
       "      <td>+</td>\n",
       "      <td>chr1:158621</td>\n",
       "      <td>TGGGAAACTAGGGACAGTACTTG</td>\n",
       "      <td>GGGGCCACTAGGGACAGGATNGG</td>\n",
       "      <td>0.0</td>\n",
       "      <td>TGGGAAACTAGGGACAGTACTTGGGGGCCACTAGGGACAGGATNGG</td>\n",
       "    </tr>\n",
       "    <tr>\n",
       "      <th>2</th>\n",
       "      <td>2</td>\n",
       "      <td>-</td>\n",
       "      <td>chr1:427716</td>\n",
       "      <td>GGGGGCACAGGAGACAGGCCTGG</td>\n",
       "      <td>GGGGCCACTAGGGACAGGATNGG</td>\n",
       "      <td>0.0</td>\n",
       "      <td>GGGGGCACAGGAGACAGGCCTGGGGGGCCACTAGGGACAGGATNGG</td>\n",
       "    </tr>\n",
       "    <tr>\n",
       "      <th>3</th>\n",
       "      <td>3</td>\n",
       "      <td>+</td>\n",
       "      <td>chr1:556867</td>\n",
       "      <td>GGGGGCACAGGAGACAGGCCTGG</td>\n",
       "      <td>GGGGCCACTAGGGACAGGATNGG</td>\n",
       "      <td>0.0</td>\n",
       "      <td>GGGGGCACAGGAGACAGGCCTGGGGGGCCACTAGGGACAGGATNGG</td>\n",
       "    </tr>\n",
       "    <tr>\n",
       "      <th>4</th>\n",
       "      <td>4</td>\n",
       "      <td>+</td>\n",
       "      <td>chr1:812137</td>\n",
       "      <td>GGGGGCTTCATGGACAGGAGTGG</td>\n",
       "      <td>GGGGCCACTAGGGACAGGATNGG</td>\n",
       "      <td>0.0</td>\n",
       "      <td>GGGGGCTTCATGGACAGGAGTGGGGGGCCACTAGGGACAGGATNGG</td>\n",
       "    </tr>\n",
       "    <tr>\n",
       "      <th>...</th>\n",
       "      <td>...</td>\n",
       "      <td>...</td>\n",
       "      <td>...</td>\n",
       "      <td>...</td>\n",
       "      <td>...</td>\n",
       "      <td>...</td>\n",
       "      <td>...</td>\n",
       "    </tr>\n",
       "    <tr>\n",
       "      <th>217728</th>\n",
       "      <td>217728</td>\n",
       "      <td>+</td>\n",
       "      <td>chr5:2282405-2282427</td>\n",
       "      <td>TGATGGCCAAGGACAGATAGAGG</td>\n",
       "      <td>GGTGGACAAGCGGCAGATAGNGG</td>\n",
       "      <td>11.0</td>\n",
       "      <td>TGATGGCCAAGGACAGATAGAGGGGTGGACAAGCGGCAGATAGNGG</td>\n",
       "    </tr>\n",
       "    <tr>\n",
       "      <th>217729</th>\n",
       "      <td>217729</td>\n",
       "      <td>+</td>\n",
       "      <td>chr4:87292680-87292702</td>\n",
       "      <td>GGGGGACAAGCGGCAGAGGGGGA</td>\n",
       "      <td>GGTGGACAAGCGGCAGATAGNGG</td>\n",
       "      <td>11.0</td>\n",
       "      <td>GGGGGACAAGCGGCAGAGGGGGAGGTGGACAAGCGGCAGATAGNGG</td>\n",
       "    </tr>\n",
       "    <tr>\n",
       "      <th>217730</th>\n",
       "      <td>217730</td>\n",
       "      <td>-</td>\n",
       "      <td>chr14:49882638-49882660</td>\n",
       "      <td>GAATGAACAAGGACAGATAGGAG</td>\n",
       "      <td>GGTGGACAAGCGGCAGATAGNGG</td>\n",
       "      <td>11.0</td>\n",
       "      <td>GAATGAACAAGGACAGATAGGAGGGTGGACAAGCGGCAGATAGNGG</td>\n",
       "    </tr>\n",
       "    <tr>\n",
       "      <th>217731</th>\n",
       "      <td>217731</td>\n",
       "      <td>-</td>\n",
       "      <td>chr1:184926753-184926775</td>\n",
       "      <td>GGAGGTAGACAGACAGATAGGGG</td>\n",
       "      <td>GGTGGACAAGCGGCAGATAGNGG</td>\n",
       "      <td>11.0</td>\n",
       "      <td>GGAGGTAGACAGACAGATAGGGGGGTGGACAAGCGGCAGATAGNGG</td>\n",
       "    </tr>\n",
       "    <tr>\n",
       "      <th>217732</th>\n",
       "      <td>217732</td>\n",
       "      <td>-</td>\n",
       "      <td>chr17:42400554-42400576</td>\n",
       "      <td>ATGGATGGATAGGTAGATAGAGG</td>\n",
       "      <td>GGTGGACAAGCGGCAGATAGNGG</td>\n",
       "      <td>11.0</td>\n",
       "      <td>ATGGATGGATAGGTAGATAGAGGGGTGGACAAGCGGCAGATAGNGG</td>\n",
       "    </tr>\n",
       "  </tbody>\n",
       "</table>\n",
       "<p>217733 rows × 7 columns</p>\n",
       "</div>"
      ],
      "text/plain": [
       "        Unnamed: 0 direction                  location  \\\n",
       "0                0         -                chr1:13386   \n",
       "1                1         +               chr1:158621   \n",
       "2                2         -               chr1:427716   \n",
       "3                3         +               chr1:556867   \n",
       "4                4         +               chr1:812137   \n",
       "...            ...       ...                       ...   \n",
       "217728      217728         +      chr5:2282405-2282427   \n",
       "217729      217729         +    chr4:87292680-87292702   \n",
       "217730      217730         -   chr14:49882638-49882660   \n",
       "217731      217731         -  chr1:184926753-184926775   \n",
       "217732      217732         -   chr17:42400554-42400576   \n",
       "\n",
       "                        off_seq                   on_seq  reads  \\\n",
       "0       GGAGGCTCTAGGGAAAGGAAAAG  GGGGCCACTAGGGACAGGATNGG    0.0   \n",
       "1       TGGGAAACTAGGGACAGTACTTG  GGGGCCACTAGGGACAGGATNGG    0.0   \n",
       "2       GGGGGCACAGGAGACAGGCCTGG  GGGGCCACTAGGGACAGGATNGG    0.0   \n",
       "3       GGGGGCACAGGAGACAGGCCTGG  GGGGCCACTAGGGACAGGATNGG    0.0   \n",
       "4       GGGGGCTTCATGGACAGGAGTGG  GGGGCCACTAGGGACAGGATNGG    0.0   \n",
       "...                         ...                      ...    ...   \n",
       "217728  TGATGGCCAAGGACAGATAGAGG  GGTGGACAAGCGGCAGATAGNGG   11.0   \n",
       "217729  GGGGGACAAGCGGCAGAGGGGGA  GGTGGACAAGCGGCAGATAGNGG   11.0   \n",
       "217730  GAATGAACAAGGACAGATAGGAG  GGTGGACAAGCGGCAGATAGNGG   11.0   \n",
       "217731  GGAGGTAGACAGACAGATAGGGG  GGTGGACAAGCGGCAGATAGNGG   11.0   \n",
       "217732  ATGGATGGATAGGTAGATAGAGG  GGTGGACAAGCGGCAGATAGNGG   11.0   \n",
       "\n",
       "                                             on_off_sp  \n",
       "0       GGAGGCTCTAGGGAAAGGAAAAGGGGGCCACTAGGGACAGGATNGG  \n",
       "1       TGGGAAACTAGGGACAGTACTTGGGGGCCACTAGGGACAGGATNGG  \n",
       "2       GGGGGCACAGGAGACAGGCCTGGGGGGCCACTAGGGACAGGATNGG  \n",
       "3       GGGGGCACAGGAGACAGGCCTGGGGGGCCACTAGGGACAGGATNGG  \n",
       "4       GGGGGCTTCATGGACAGGAGTGGGGGGCCACTAGGGACAGGATNGG  \n",
       "...                                                ...  \n",
       "217728  TGATGGCCAAGGACAGATAGAGGGGTGGACAAGCGGCAGATAGNGG  \n",
       "217729  GGGGGACAAGCGGCAGAGGGGGAGGTGGACAAGCGGCAGATAGNGG  \n",
       "217730  GAATGAACAAGGACAGATAGGAGGGTGGACAAGCGGCAGATAGNGG  \n",
       "217731  GGAGGTAGACAGACAGATAGGGGGGTGGACAAGCGGCAGATAGNGG  \n",
       "217732  ATGGATGGATAGGTAGATAGAGGGGTGGACAAGCGGCAGATAGNGG  \n",
       "\n",
       "[217733 rows x 7 columns]"
      ]
     },
     "execution_count": 3,
     "metadata": {},
     "output_type": "execute_result"
    }
   ],
   "source": [
    "'''\n",
    "读 csv\n",
    "'''\n",
    "assert os.path.exists('../../data')\n",
    "dataset = pandas.read_csv('../../data/Dataset II (mismatch-only)/%s' % orig_name, delimiter=',')\n",
    "dataset"
   ]
  },
  {
   "cell_type": "code",
   "execution_count": 4,
   "id": "2bcee1f1-51ba-444c-8e20-b6566587dd1b",
   "metadata": {},
   "outputs": [
    {
     "data": {
      "text/plain": [
       "(0         GGGGCCACTAGGGACAGGATNGG\n",
       " 1         GGGGCCACTAGGGACAGGATNGG\n",
       " 2         GGGGCCACTAGGGACAGGATNGG\n",
       " 3         GGGGCCACTAGGGACAGGATNGG\n",
       " 4         GGGGCCACTAGGGACAGGATNGG\n",
       "                    ...           \n",
       " 217728    GGTGGACAAGCGGCAGATAGNGG\n",
       " 217729    GGTGGACAAGCGGCAGATAGNGG\n",
       " 217730    GGTGGACAAGCGGCAGATAGNGG\n",
       " 217731    GGTGGACAAGCGGCAGATAGNGG\n",
       " 217732    GGTGGACAAGCGGCAGATAGNGG\n",
       " Name: on_seq, Length: 217733, dtype: object,\n",
       " 0         GGAGGCTCTAGGGAAAGGAAAAG\n",
       " 1         TGGGAAACTAGGGACAGTACTTG\n",
       " 2         GGGGGCACAGGAGACAGGCCTGG\n",
       " 3         GGGGGCACAGGAGACAGGCCTGG\n",
       " 4         GGGGGCTTCATGGACAGGAGTGG\n",
       "                    ...           \n",
       " 217728    TGATGGCCAAGGACAGATAGAGG\n",
       " 217729    GGGGGACAAGCGGCAGAGGGGGA\n",
       " 217730    GAATGAACAAGGACAGATAGGAG\n",
       " 217731    GGAGGTAGACAGACAGATAGGGG\n",
       " 217732    ATGGATGGATAGGTAGATAGAGG\n",
       " Name: off_seq, Length: 217733, dtype: object,\n",
       " array([0., 0., 0., ..., 1., 1., 1.]))"
      ]
     },
     "execution_count": 4,
     "metadata": {},
     "output_type": "execute_result"
    }
   ],
   "source": [
    "on = dataset['on_seq']\n",
    "off = dataset['off_seq']\n",
    "reads = dataset['reads']\n",
    "reads = np.array(reads)\n",
    "val = np.zeros(len(reads))\n",
    "val[reads > 0] = 1\n",
    "on,off,val"
   ]
  },
  {
   "cell_type": "code",
   "execution_count": 5,
   "id": "6f0d4677-744c-4269-b942-bffc16540aee",
   "metadata": {},
   "outputs": [],
   "source": [
    "tlen =24\n",
    "ons = []\n",
    "offs = []\n",
    "for i in range(len(on)):\n",
    "    ons.append('-'*(tlen-len(on[i]))+on[i])\n",
    "for i in range(len(off)):\n",
    "    offs.append('-'*(tlen-len(off[i]))+off[i])"
   ]
  },
  {
   "cell_type": "code",
   "execution_count": 6,
   "id": "7366a501-fc3a-4100-bee3-952d59798372",
   "metadata": {},
   "outputs": [
    {
     "data": {
      "text/plain": [
       "24"
      ]
     },
     "execution_count": 6,
     "metadata": {},
     "output_type": "execute_result"
    }
   ],
   "source": [
    "max([len(s) for s in ons])"
   ]
  },
  {
   "cell_type": "code",
   "execution_count": 7,
   "id": "480b7d8d-83e6-487f-be21-633913f6ca28",
   "metadata": {},
   "outputs": [
    {
     "name": "stderr",
     "output_type": "stream",
     "text": [
      "100%|██████████| 217733/217733 [00:01<00:00, 185425.88it/s]\n"
     ]
    },
    {
     "data": {
      "text/plain": [
       "['-GGGGCCACTAGGGACAGGATAGG',\n",
       " '-GGGGCCACTAGGGACAGGATTGG',\n",
       " '-GGGGCCACTAGGGACAGGATTGG',\n",
       " '-GGGGCCACTAGGGACAGGATTGG',\n",
       " '-GGGGCCACTAGGGACAGGATTGG',\n",
       " '-GGGGCCACTAGGGACAGGATGGG',\n",
       " '-GGGGCCACTAGGGACAGGATTGG',\n",
       " '-GGGGCCACTAGGGACAGGATGGG',\n",
       " '-GGGGCCACTAGGGACAGGATAGG',\n",
       " '-GGGGCCACTAGGGACAGGATGGG']"
      ]
     },
     "execution_count": 7,
     "metadata": {},
     "output_type": "execute_result"
    }
   ],
   "source": [
    "onss = []\n",
    "for i in tqdm(range(len(ons))):\n",
    "    seq = []\n",
    "    for j in range(tlen):\n",
    "        if ons[i][j] == 'N':\n",
    "            seq.append(offs[i][j])\n",
    "        else:\n",
    "            seq.append(ons[i][j])\n",
    "    onss.append(''.join(seq))\n",
    "onss[0:10]"
   ]
  },
  {
   "cell_type": "code",
   "execution_count": 8,
   "id": "c524d3dd",
   "metadata": {},
   "outputs": [
    {
     "name": "stderr",
     "output_type": "stream",
     "text": [
      "100%|██████████| 217733/217733 [00:01<00:00, 183385.77it/s]\n"
     ]
    },
    {
     "data": {
      "text/plain": [
       "['-GGAGGCTCTAGGGAAAGGAAAAG',\n",
       " '-TGGGAAACTAGGGACAGTACTTG',\n",
       " '-GGGGGCACAGGAGACAGGCCTGG',\n",
       " '-GGGGGCACAGGAGACAGGCCTGG',\n",
       " '-GGGGGCTTCATGGACAGGAGTGG',\n",
       " '-GAGGCCGCGCGCGATAGGATGGG',\n",
       " '-TGGGAAACTAGGGACAGTACTTG',\n",
       " '-GGGGCCACAGGATGCAGGGTGGG',\n",
       " '-GGCGGCAGTGAGGACAGGAGAGG',\n",
       " '-GGGACCACTGACCACAGGCTGGG']"
      ]
     },
     "execution_count": 8,
     "metadata": {},
     "output_type": "execute_result"
    }
   ],
   "source": [
    "offss = []\n",
    "for i in tqdm(range(len(offs))):\n",
    "    seq = []\n",
    "    for j in range(tlen):\n",
    "        if offs[i][j] == 'N':\n",
    "            seq.append(onss[i][j])\n",
    "        else:\n",
    "            seq.append(offs[i][j])\n",
    "    offss.append(''.join(seq))\n",
    "offss[0:10]"
   ]
  },
  {
   "cell_type": "code",
   "execution_count": 9,
   "id": "f5dffafc-6602-4399-82ff-ad6c9f2ab68f",
   "metadata": {},
   "outputs": [],
   "source": [
    "df = pandas.DataFrame(data={\n",
    "    'on': onss,\n",
    "    'off': offss,\n",
    "    'val': val,\n",
    "})\n",
    "df.to_csv('../../data/%s.csv' % csv_name, index=False)"
   ]
  }
 ],
 "metadata": {
  "kernelspec": {
   "display_name": "Python 3",
   "language": "python",
   "name": "python3"
  },
  "language_info": {
   "codemirror_mode": {
    "name": "ipython",
    "version": 3
   },
   "file_extension": ".py",
   "mimetype": "text/x-python",
   "name": "python",
   "nbconvert_exporter": "python",
   "pygments_lexer": "ipython3",
   "version": "3.10.8"
  }
 },
 "nbformat": 4,
 "nbformat_minor": 5
}
