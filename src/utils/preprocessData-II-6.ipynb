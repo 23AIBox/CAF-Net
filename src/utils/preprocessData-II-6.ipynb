{
 "cells": [
  {
   "cell_type": "code",
   "execution_count": 1,
   "id": "531c4a1a-39d1-466a-bf72-01868292f225",
   "metadata": {},
   "outputs": [],
   "source": [
    "# -*- coding: utf-8 -*-\n",
    "import os\n",
    "import pickle\n",
    "from typing import List\n",
    "\n",
    "import pandas\n",
    "import numpy as np\n",
    "from tqdm import tqdm"
   ]
  },
  {
   "cell_type": "code",
   "execution_count": 2,
   "id": "3e9eef23-86f9-4c8e-a89f-438f2ac18bd3",
   "metadata": {},
   "outputs": [],
   "source": [
    "orig_name = 'dataset II-6/Listgarten_22gRNA_wholeDataset.csv'\n",
    "csv_name = 'II-6'"
   ]
  },
  {
   "cell_type": "code",
   "execution_count": 3,
   "id": "6c532e2f-a88c-463b-9808-2e044c26556d",
   "metadata": {},
   "outputs": [
    {
     "data": {
      "text/html": [
       "<div>\n",
       "<style scoped>\n",
       "    .dataframe tbody tr th:only-of-type {\n",
       "        vertical-align: middle;\n",
       "    }\n",
       "\n",
       "    .dataframe tbody tr th {\n",
       "        vertical-align: top;\n",
       "    }\n",
       "\n",
       "    .dataframe thead th {\n",
       "        text-align: right;\n",
       "    }\n",
       "</style>\n",
       "<table border=\"1\" class=\"dataframe\">\n",
       "  <thead>\n",
       "    <tr style=\"text-align: right;\">\n",
       "      <th></th>\n",
       "      <th>sgRNA_seq</th>\n",
       "      <th>off_seq</th>\n",
       "      <th>label</th>\n",
       "      <th>read</th>\n",
       "    </tr>\n",
       "  </thead>\n",
       "  <tbody>\n",
       "    <tr>\n",
       "      <th>0</th>\n",
       "      <td>GATGGTAGATGGAGACTCAGNGG</td>\n",
       "      <td>GAaGGTtctTGGAGAaTCAcAGG</td>\n",
       "      <td>0.0</td>\n",
       "      <td>0.0</td>\n",
       "    </tr>\n",
       "    <tr>\n",
       "      <th>1</th>\n",
       "      <td>GATGGTAGATGGAGACTCAGNGG</td>\n",
       "      <td>aATGcTAGATGacGAgTtAGTGG</td>\n",
       "      <td>0.0</td>\n",
       "      <td>0.0</td>\n",
       "    </tr>\n",
       "    <tr>\n",
       "      <th>2</th>\n",
       "      <td>GATGGTAGATGGAGACTCAGNGG</td>\n",
       "      <td>GAgGaTcGcTGGAGcCTCgGAGG</td>\n",
       "      <td>0.0</td>\n",
       "      <td>0.0</td>\n",
       "    </tr>\n",
       "    <tr>\n",
       "      <th>3</th>\n",
       "      <td>GATGGTAGATGGAGACTCAGNGG</td>\n",
       "      <td>GATGGcAGAgGcAGAaTCAGCcc</td>\n",
       "      <td>0.0</td>\n",
       "      <td>0.0</td>\n",
       "    </tr>\n",
       "    <tr>\n",
       "      <th>4</th>\n",
       "      <td>GATGGTAGATGGAGACTCAGNGG</td>\n",
       "      <td>GATGGgAGgTtGAGgtTCtGGGG</td>\n",
       "      <td>0.0</td>\n",
       "      <td>0.0</td>\n",
       "    </tr>\n",
       "    <tr>\n",
       "      <th>...</th>\n",
       "      <td>...</td>\n",
       "      <td>...</td>\n",
       "      <td>...</td>\n",
       "      <td>...</td>\n",
       "    </tr>\n",
       "    <tr>\n",
       "      <th>383458</th>\n",
       "      <td>GCCGGAGGGGTTTGCACAGANGG</td>\n",
       "      <td>CCAGGAGGGGTTTGCACAAAGGG</td>\n",
       "      <td>1.0</td>\n",
       "      <td>1049.0</td>\n",
       "    </tr>\n",
       "    <tr>\n",
       "      <th>383459</th>\n",
       "      <td>GCCGGAGGGGTTTGCACAGANGG</td>\n",
       "      <td>GAAGAAGGGGTTTGCACAGAGGG</td>\n",
       "      <td>1.0</td>\n",
       "      <td>288.0</td>\n",
       "    </tr>\n",
       "    <tr>\n",
       "      <th>383460</th>\n",
       "      <td>GCCGGAGGGGTTTGCACAGANGG</td>\n",
       "      <td>CGGGGAGGGGTTTGCACAGAAGA</td>\n",
       "      <td>1.0</td>\n",
       "      <td>78.0</td>\n",
       "    </tr>\n",
       "    <tr>\n",
       "      <th>383461</th>\n",
       "      <td>GCCGGAGGGGTTTGCACAGANGG</td>\n",
       "      <td>GCCGGAGTGGCCTGCACAGAGGG</td>\n",
       "      <td>1.0</td>\n",
       "      <td>51.0</td>\n",
       "    </tr>\n",
       "    <tr>\n",
       "      <th>383462</th>\n",
       "      <td>GCCGGAGGGGTTTGCACAGANGG</td>\n",
       "      <td>ACTGGAGGGATTTGCACACAGGG</td>\n",
       "      <td>1.0</td>\n",
       "      <td>32.0</td>\n",
       "    </tr>\n",
       "  </tbody>\n",
       "</table>\n",
       "<p>383463 rows × 4 columns</p>\n",
       "</div>"
      ],
      "text/plain": [
       "                      sgRNA_seq                  off_seq  label    read\n",
       "0       GATGGTAGATGGAGACTCAGNGG  GAaGGTtctTGGAGAaTCAcAGG    0.0     0.0\n",
       "1       GATGGTAGATGGAGACTCAGNGG  aATGcTAGATGacGAgTtAGTGG    0.0     0.0\n",
       "2       GATGGTAGATGGAGACTCAGNGG  GAgGaTcGcTGGAGcCTCgGAGG    0.0     0.0\n",
       "3       GATGGTAGATGGAGACTCAGNGG  GATGGcAGAgGcAGAaTCAGCcc    0.0     0.0\n",
       "4       GATGGTAGATGGAGACTCAGNGG  GATGGgAGgTtGAGgtTCtGGGG    0.0     0.0\n",
       "...                         ...                      ...    ...     ...\n",
       "383458  GCCGGAGGGGTTTGCACAGANGG  CCAGGAGGGGTTTGCACAAAGGG    1.0  1049.0\n",
       "383459  GCCGGAGGGGTTTGCACAGANGG  GAAGAAGGGGTTTGCACAGAGGG    1.0   288.0\n",
       "383460  GCCGGAGGGGTTTGCACAGANGG  CGGGGAGGGGTTTGCACAGAAGA    1.0    78.0\n",
       "383461  GCCGGAGGGGTTTGCACAGANGG  GCCGGAGTGGCCTGCACAGAGGG    1.0    51.0\n",
       "383462  GCCGGAGGGGTTTGCACAGANGG  ACTGGAGGGATTTGCACACAGGG    1.0    32.0\n",
       "\n",
       "[383463 rows x 4 columns]"
      ]
     },
     "execution_count": 3,
     "metadata": {},
     "output_type": "execute_result"
    }
   ],
   "source": [
    "'''\n",
    "读 csv\n",
    "'''\n",
    "assert os.path.exists('../../data')\n",
    "dataset = pandas.read_csv('../../data/Dataset II (mismatch-only)/%s' % orig_name, delimiter=',')\n",
    "dataset"
   ]
  },
  {
   "cell_type": "code",
   "execution_count": 4,
   "id": "92746cf7-18d2-4efe-aaf4-763a287ea082",
   "metadata": {},
   "outputs": [
    {
     "data": {
      "text/plain": [
       "(0         GATGGTAGATGGAGACTCAGNGG\n",
       " 1         GATGGTAGATGGAGACTCAGNGG\n",
       " 2         GATGGTAGATGGAGACTCAGNGG\n",
       " 3         GATGGTAGATGGAGACTCAGNGG\n",
       " 4         GATGGTAGATGGAGACTCAGNGG\n",
       "                    ...           \n",
       " 383458    GCCGGAGGGGTTTGCACAGANGG\n",
       " 383459    GCCGGAGGGGTTTGCACAGANGG\n",
       " 383460    GCCGGAGGGGTTTGCACAGANGG\n",
       " 383461    GCCGGAGGGGTTTGCACAGANGG\n",
       " 383462    GCCGGAGGGGTTTGCACAGANGG\n",
       " Name: sgRNA_seq, Length: 383463, dtype: object,\n",
       " 0         GAaGGTtctTGGAGAaTCAcAGG\n",
       " 1         aATGcTAGATGacGAgTtAGTGG\n",
       " 2         GAgGaTcGcTGGAGcCTCgGAGG\n",
       " 3         GATGGcAGAgGcAGAaTCAGCcc\n",
       " 4         GATGGgAGgTtGAGgtTCtGGGG\n",
       "                    ...           \n",
       " 383458    CCAGGAGGGGTTTGCACAAAGGG\n",
       " 383459    GAAGAAGGGGTTTGCACAGAGGG\n",
       " 383460    CGGGGAGGGGTTTGCACAGAAGA\n",
       " 383461    GCCGGAGTGGCCTGCACAGAGGG\n",
       " 383462    ACTGGAGGGATTTGCACACAGGG\n",
       " Name: off_seq, Length: 383463, dtype: object,\n",
       " 0         0.0\n",
       " 1         0.0\n",
       " 2         0.0\n",
       " 3         0.0\n",
       " 4         0.0\n",
       "          ... \n",
       " 383458    1.0\n",
       " 383459    1.0\n",
       " 383460    1.0\n",
       " 383461    1.0\n",
       " 383462    1.0\n",
       " Name: label, Length: 383463, dtype: float64)"
      ]
     },
     "execution_count": 4,
     "metadata": {},
     "output_type": "execute_result"
    }
   ],
   "source": [
    "on = dataset['sgRNA_seq']\n",
    "off = dataset['off_seq']\n",
    "val = dataset['label']\n",
    "on,off,val"
   ]
  },
  {
   "cell_type": "code",
   "execution_count": 5,
   "id": "b0bc3732-8815-4e0e-a239-775c8b2bfb65",
   "metadata": {},
   "outputs": [],
   "source": [
    "tlen =24\n",
    "ons = []\n",
    "offs = []\n",
    "for i in range(len(on)):\n",
    "    ons.append('-'*(tlen-len(on[i]))+on[i])\n",
    "for i in range(len(off)):\n",
    "    offs.append('-'*(tlen-len(off[i]))+off[i])"
   ]
  },
  {
   "cell_type": "code",
   "execution_count": 6,
   "id": "b4c7dfd4-a0ab-45fa-811d-8661b8e98285",
   "metadata": {},
   "outputs": [
    {
     "data": {
      "text/plain": [
       "24"
      ]
     },
     "execution_count": 6,
     "metadata": {},
     "output_type": "execute_result"
    }
   ],
   "source": [
    "min([len(s) for s in ons])"
   ]
  },
  {
   "cell_type": "code",
   "execution_count": 7,
   "id": "2e51fd55-79ac-41de-a680-fa554ae2693a",
   "metadata": {},
   "outputs": [
    {
     "name": "stderr",
     "output_type": "stream",
     "text": [
      "100%|██████████| 383463/383463 [00:02<00:00, 172481.51it/s]\n"
     ]
    },
    {
     "data": {
      "text/plain": [
       "['-GATGGTAGATGGAGACTCAGAGG',\n",
       " '-GATGGTAGATGGAGACTCAGTGG',\n",
       " '-GATGGTAGATGGAGACTCAGAGG',\n",
       " '-GATGGTAGATGGAGACTCAGCGG',\n",
       " '-GATGGTAGATGGAGACTCAGGGG',\n",
       " '-GATGGTAGATGGAGACTCAGGGG',\n",
       " '-GATGGTAGATGGAGACTCAGGGG',\n",
       " '-GATGGTAGATGGAGACTCAGCGG',\n",
       " '-GATGGTAGATGGAGACTCAGTGG',\n",
       " '-GATGGTAGATGGAGACTCAGCGG']"
      ]
     },
     "execution_count": 7,
     "metadata": {},
     "output_type": "execute_result"
    }
   ],
   "source": [
    "onss = []\n",
    "for i in tqdm(range(len(ons))):\n",
    "    seq = []\n",
    "    for j in range(tlen):\n",
    "        if ons[i][j]=='N':\n",
    "            seq.append(offs[i][j])\n",
    "        else:\n",
    "            seq.append(ons[i][j])\n",
    "    onss.append(''.join(seq))\n",
    "onss[0:10]"
   ]
  },
  {
   "cell_type": "code",
   "execution_count": 8,
   "id": "53c0122d-3012-4d71-91c1-4da0ea2cd904",
   "metadata": {},
   "outputs": [],
   "source": [
    "df = pandas.DataFrame(data={\n",
    "    'on':onss,\n",
    "    'off':offs,\n",
    "    'val':val\n",
    "})\n",
    "df.to_csv('../../data/%s.csv' % csv_name, index=False)"
   ]
  }
 ],
 "metadata": {
  "kernelspec": {
   "display_name": "Python 3",
   "language": "python",
   "name": "python3"
  },
  "language_info": {
   "codemirror_mode": {
    "name": "ipython",
    "version": 3
   },
   "file_extension": ".py",
   "mimetype": "text/x-python",
   "name": "python",
   "nbconvert_exporter": "python",
   "pygments_lexer": "ipython3",
   "version": "3.10.8"
  }
 },
 "nbformat": 4,
 "nbformat_minor": 5
}
